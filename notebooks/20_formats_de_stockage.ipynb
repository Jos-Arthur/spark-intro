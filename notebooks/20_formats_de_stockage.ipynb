{
 "cells": [
  {
   "cell_type": "markdown",
   "metadata": {},
   "source": [
    "# Une classe pour représenter les prénoms"
   ]
  },
  {
   "cell_type": "code",
   "execution_count": 1,
   "metadata": {},
   "outputs": [],
   "source": [
    "case class Prenom(sexe: String, prenom: String, annee: Int, codeDept: Int, nombre: Int)"
   ]
  },
  {
   "cell_type": "code",
   "execution_count": 2,
   "metadata": {},
   "outputs": [
    {
     "name": "stdout",
     "output_type": "stream",
     "text": [
      "Prenom(2,ARIANE,2007,91,10), Prenom(2,CASSIOPEE,2009,91,3), Prenom(1,HELIOS,2012,91,1)\n"
     ]
    }
   ],
   "source": [
    "val ariane = Prenom(\"2\", \"ARIANE\", 2007, 91, 10)\n",
    "val cassiopee = Prenom(\"2\", \"CASSIOPEE\", 2009, 91, 3)\n",
    "val helios = Prenom(\"1\", \"HELIOS\", 2012, 91, 1)\n",
    "println(s\"$ariane, $cassiopee, $helios\")"
   ]
  },
  {
   "cell_type": "markdown",
   "metadata": {},
   "source": [
    "# Chargement des données"
   ]
  },
  {
   "cell_type": "code",
   "execution_count": 6,
   "metadata": {},
   "outputs": [
    {
     "data": {
      "text/plain": [
       "Name: Syntax Error.\n",
       "Message: \n",
       "StackTrace: "
      ]
     },
     "execution_count": 6,
     "metadata": {},
     "output_type": "execute_result"
    }
   ],
   "source": [
    "//import org.apache.spark.sql.SparkSession\n",
    "//lazy val spark: SparkSession = SparkSession.builder().getOrCreate()\n",
    "\n",
    "// Pour les conversions implicites de RDDs vers DataFrames\n",
    "//import spark.implicits._"
   ]
  },
  {
   "cell_type": "code",
   "execution_count": 4,
   "metadata": {},
   "outputs": [
    {
     "data": {
      "text/plain": [
       "Name: Compile Error\n",
       "Message: <console>:25: error: value toDS is not a member of org.apache.spark.rdd.RDD[Prenom]\n",
       "       val prenoms = prenomsRDD.toDS()\n",
       "                                ^\n",
       "StackTrace: "
      ]
     },
     "execution_count": 4,
     "metadata": {},
     "output_type": "execute_result"
    }
   ],
   "source": [
    "val lignes = spark.sparkContext.textFile(\"prenoms_sample.txt\")\n",
    "val prenomsRDD = lignes.map(_.split('\\t')).map(a => Prenom(a(0), a(1), a(2).toInt, a(3).toInt, a(4).toDouble.toInt))\n",
    "val prenoms = prenomsRDD.implicits.rddToDatasetHolder()\n",
    "prenoms.show()"
   ]
  }
 ],
 "metadata": {
  "kernelspec": {
   "display_name": "Apache Toree - Scala",
   "language": "scala",
   "name": "apache_toree_scala"
  },
  "language_info": {
   "file_extension": ".scala",
   "name": "scala",
   "version": "2.11.8"
  }
 },
 "nbformat": 4,
 "nbformat_minor": 2
}
