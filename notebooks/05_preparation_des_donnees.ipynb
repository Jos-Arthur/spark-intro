{
 "cells": [
  {
   "cell_type": "markdown",
   "metadata": {},
   "source": [
    "# Vérifier le contenu du fichier"
   ]
  },
  {
   "cell_type": "code",
   "execution_count": 1,
   "metadata": {},
   "outputs": [
    {
     "data": {
      "text/plain": [
       "Array(1\tMOISE\t1916\t76\t3.0000, 2\tNINA\t1989\t13\t7.0000, 2\tSARA\t1990\t80\t3.0000, 1\tILAN\t2002\t76\t3.0000, 1\tEMILIEN\t1994\t67\t3.0000, 2\tANA�LLE\t2015\t97\t16.0000, 2\tLAURE\t1985\t51\t21.0000, 1\tNICOLAS\t1997\t47\t30.0000, 1\tGUY\t1966\t65\t9.0000, 1\tLUDOVIC\t1964\t83\t5.0000)"
      ]
     },
     "execution_count": 1,
     "metadata": {},
     "output_type": "execute_result"
    }
   ],
   "source": [
    "val prenoms = sc.textFile(\"prenoms.txt\")\n",
    "prenoms.takeSample(false, 10)"
   ]
  },
  {
   "cell_type": "markdown",
   "metadata": {},
   "source": [
    "# Extraire et sauvegarder un échantillon\n",
    "1. Expliquer ce que fait la ligne suivante"
   ]
  },
  {
   "cell_type": "code",
   "execution_count": 4,
   "metadata": {},
   "outputs": [],
   "source": [
    "prenoms.filter(l => l.startsWith(\"sexe\") == false).filter(l => l.contains(\"XX\") == false).sample(false, .001).saveAsTextFile(\"prenoms_sample.txt\")"
   ]
  },
  {
   "cell_type": "markdown",
   "metadata": {},
   "source": [
    "# Vérifier l'échantillon"
   ]
  },
  {
   "cell_type": "code",
   "execution_count": 2,
   "metadata": {},
   "outputs": [
    {
     "name": "stdout",
     "output_type": "stream",
     "text": [
      "3317\n",
      "0\n",
      "0\n"
     ]
    }
   ],
   "source": [
    "val echantillon = sc.textFile(\"prenoms_sample.txt\")\n",
    "println(echantillon.count)\n",
    "println(echantillon.filter(l => l.startsWith(\"sexe\")).count)\n",
    "println(echantillon.filter(l => l.contains(\"XX\")).count)"
   ]
  }
 ],
 "metadata": {
  "kernelspec": {
   "display_name": "Apache Toree - Scala",
   "language": "scala",
   "name": "apache_toree_scala"
  },
  "language_info": {
   "file_extension": ".scala",
   "name": "scala",
   "version": "2.11.8"
  }
 },
 "nbformat": 4,
 "nbformat_minor": 2
}
