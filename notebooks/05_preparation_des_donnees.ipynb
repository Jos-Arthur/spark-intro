{
 "cells": [
  {
   "cell_type": "markdown",
   "metadata": {},
   "source": [
    "# Vérifier le contenu du fichier"
   ]
  },
  {
   "cell_type": "code",
   "execution_count": 1,
   "metadata": {},
   "outputs": [
    {
     "data": {
      "text/plain": [
       "Array(2\tJULIETTE\t1978\t45\t5.0000, 1\tVIRGILE\t1940\t97\t5.0000, 2\tLUCIENNE\t1962\t11\t3.0000, 1\tMOHAMED\t1969\t95\t30.0000, 1\tFLAVIEN\t1996\t63\t4.0000, 1\tANTOINE\t1944\t43\t15.0000, 2\tANNA\t1933\t20\t17.0000, 1\tSIMEON\t2006\t67\t6.0000, 1\tPHILIPPE\t1960\t63\t215.0000, 1\tJEAN-PAUL\t1954\t11\t15.0000)"
      ]
     },
     "execution_count": 1,
     "metadata": {},
     "output_type": "execute_result"
    }
   ],
   "source": [
    "val prenoms = sc.textFile(\"prenoms.txt\")\n",
    "prenoms.takeSample(false, 10)"
   ]
  },
  {
   "cell_type": "markdown",
   "metadata": {},
   "source": [
    "# Extraire et sauvegarder un échantillon"
   ]
  },
  {
   "cell_type": "code",
   "execution_count": 4,
   "metadata": {},
   "outputs": [],
   "source": [
    "prenoms.filter(l => l.startsWith(\"sexe\") == false).filter(l => l.contains(\"XX\") == false).sample(false, .001).saveAsTextFile(\"prenoms_sample.txt\")"
   ]
  },
  {
   "cell_type": "markdown",
   "metadata": {},
   "source": [
    "# Vérifier l'échantillon"
   ]
  },
  {
   "cell_type": "code",
   "execution_count": 8,
   "metadata": {},
   "outputs": [
    {
     "name": "stdout",
     "output_type": "stream",
     "text": [
      "3317\n",
      "0\n",
      "0\n"
     ]
    }
   ],
   "source": [
    "val echantillon = sc.textFile(\"prenoms_sample.txt\")\n",
    "println(echantillon.count)\n",
    "println(echantillon.filter(l => l.startsWith(\"sexe\")).count)\n",
    "println(echantillon.filter(l => l.contains(\"XX\")).count)"
   ]
  }
 ],
 "metadata": {
  "kernelspec": {
   "display_name": "Apache Toree - Scala",
   "language": "scala",
   "name": "apache_toree_scala"
  },
  "language_info": {
   "file_extension": ".scala",
   "name": "scala",
   "version": "2.11.8"
  }
 },
 "nbformat": 4,
 "nbformat_minor": 2
}
