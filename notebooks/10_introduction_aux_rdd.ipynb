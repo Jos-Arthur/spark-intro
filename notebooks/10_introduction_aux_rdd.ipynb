{
 "cells": [
  {
   "cell_type": "markdown",
   "metadata": {},
   "source": [
    "# Une fonction pour simplifier l'accès aux données"
   ]
  },
  {
   "cell_type": "code",
   "execution_count": 1,
   "metadata": {},
   "outputs": [],
   "source": [
    "def extractField(s: String, fieldNumber: Int): String = {\n",
    "    val fields = s.split('\\t')\n",
    "    if (fieldNumber >= fields.length) \"\" else fields(fieldNumber)\n",
    "}"
   ]
  },
  {
   "cell_type": "code",
   "execution_count": 2,
   "metadata": {},
   "outputs": [
    {
     "name": "stdout",
     "output_type": "stream",
     "text": [
      "2\n",
      "CASSIOPEE\n",
      "2009\n",
      "33\n",
      "3.0000\n"
     ]
    }
   ],
   "source": [
    "println(extractField(\"2\tCASSIOPEE\t2009\t33\t3.0000\", 0))\n",
    "println(extractField(\"2\tCASSIOPEE\t2009\t33\t3.0000\", 1))\n",
    "println(extractField(\"2\tCASSIOPEE\t2009\t33\t3.0000\", 2))\n",
    "println(extractField(\"2\tCASSIOPEE\t2009\t33\t3.0000\", 3))\n",
    "println(extractField(\"2\tCASSIOPEE\t2009\t33\t3.0000\", 4))\n",
    "println(extractField(\"2\tCASSIOPEE\t2009\t33\t3.0000\", 5))"
   ]
  },
  {
   "cell_type": "markdown",
   "metadata": {},
   "source": [
    "# Charger les données\n",
    "1. Créer le RDD `lignes` à partir du répertoire `prenoms_sample.txt`"
   ]
  },
  {
   "cell_type": "code",
   "execution_count": 3,
   "metadata": {},
   "outputs": [
    {
     "name": "stdout",
     "output_type": "stream",
     "text": [
      "2\tLISON\t2004\t69\t10.0000\n",
      "2\tLISON\t2011\t59\t59.0000\n",
      "2\tLISON\t2012\t86\t4.0000\n",
      "2\tLISON\t2014\t90\t3.0000\n",
      "2\tLIVIA\t2002\t94\t4.0000\n",
      "2\tLIYA\t2011\t62\t3.0000\n",
      "2\tLIYAH\t2010\t93\t6.0000\n",
      "2\tLIZ�A\t2014\t76\t3.0000\n",
      "2\tLOANE\t2008\t37\t12.0000\n",
      "2\tLOLA\t2006\t11\t23.0000\n"
     ]
    }
   ],
   "source": [
    "val lignes = sc.textFile(\"prenoms_sample.txt\")\n",
    "lignes.take(10).foreach(println)"
   ]
  },
  {
   "cell_type": "markdown",
   "metadata": {},
   "source": [
    "# Transformer les lignes en prénoms\n",
    "1. En appliquant la méthode `map`, créer le RDD `prenoms` à partir de `lignes`"
   ]
  },
  {
   "cell_type": "code",
   "execution_count": 4,
   "metadata": {},
   "outputs": [
    {
     "name": "stdout",
     "output_type": "stream",
     "text": [
      "(2,LISON,2004,69,10)\n",
      "(2,LISON,2011,59,59)\n",
      "(2,LISON,2012,86,4)\n",
      "(2,LISON,2014,90,3)\n",
      "(2,LIVIA,2002,94,4)\n",
      "(2,LIYA,2011,62,3)\n",
      "(2,LIYAH,2010,93,6)\n",
      "(2,LIZ�A,2014,76,3)\n",
      "(2,LOANE,2008,37,12)\n",
      "(2,LOLA,2006,11,23)\n"
     ]
    }
   ],
   "source": [
    "val prenoms = lignes.map(l => (\n",
    "    extractField(l, 0).charAt(0),\n",
    "    extractField(l, 1),\n",
    "    extractField(l, 2).toInt,\n",
    "    extractField(l, 3).toInt,\n",
    "    extractField(l, 4).toDouble.toInt\n",
    "))\n",
    "prenoms.take(10).foreach(println)"
   ]
  },
  {
   "cell_type": "markdown",
   "metadata": {},
   "source": [
    "# Interroger les données\n",
    "La documentation des méthodes d'un RDD est disponible ([RDD](https://spark.apache.org/docs/latest/api/scala/index.html#org.apache.spark.rdd.RDD), [PairRDDFunctions](https://spark.apache.org/docs/latest/api/scala/index.html#org.apache.spark.rdd.PairRDDFunctions)).\n",
    "\n",
    "1. Rappeler ce que sont les *transformations* et les *actions*\n",
    "1. Donner, pour chaque prénom, son nombre d'occurences (`map` et `reduceByKey`)"
   ]
  },
  {
   "cell_type": "code",
   "execution_count": 5,
   "metadata": {},
   "outputs": [
    {
     "name": "stdout",
     "output_type": "stream",
     "text": [
      "(BRADLEY,17)\n",
      "(LISANDRO,3)\n",
      "(NADIR,9)\n",
      "(WISSEM,4)\n",
      "(ASSIA,3)\n",
      "(JENNYFER,13)\n",
      "(ERNA,7)\n",
      "(NICOLLE,4)\n",
      "(AM�LIE,105)\n",
      "(DANIELE,42)\n"
     ]
    }
   ],
   "source": [
    "val effectifParPrenoms = prenoms.map(p => (p._2, p._5)).reduceByKey((n1, n2) => n1 + n2)\n",
    "effectifParPrenoms.take(10).foreach(println)"
   ]
  },
  {
   "cell_type": "markdown",
   "metadata": {},
   "source": [
    "1. Donner le nombre total de naissances avec un prénom féminin (`filter`, `map`, `reduce` ou `sum`)"
   ]
  },
  {
   "cell_type": "code",
   "execution_count": 6,
   "metadata": {},
   "outputs": [
    {
     "name": "stdout",
     "output_type": "stream",
     "text": [
      "33273.0\n"
     ]
    }
   ],
   "source": [
    "val effectifFéminin = prenoms.filter(p => p._1 == '2').map(p => p._5).sum\n",
    "println(effectifFéminin)"
   ]
  },
  {
   "cell_type": "markdown",
   "metadata": {},
   "source": [
    "1. Donner l'effectif maximal et minimal par prénom (`map`, `aggregateByKey`)"
   ]
  },
  {
   "cell_type": "code",
   "execution_count": 7,
   "metadata": {},
   "outputs": [
    {
     "name": "stdout",
     "output_type": "stream",
     "text": [
      "(BRADLEY,(17,17))\n",
      "(LISANDRO,(3,3))\n",
      "(NADIR,(3,6))\n",
      "(WISSEM,(4,4))\n",
      "(ASSIA,(3,3))\n",
      "(JENNYFER,(6,7))\n",
      "(ERNA,(7,7))\n",
      "(NICOLLE,(4,4))\n",
      "(AM�LIE,(5,62))\n",
      "(DANIELE,(8,34))\n"
     ]
    }
   ],
   "source": [
    "val prenomsAvecEffectif = prenoms.map(p => (p._2, (p._5, p._5)))\n",
    "def minMax(p1: Tuple2[Int, Int], p2: Tuple2[Int, Int]): Tuple2[Int, Int] = (math.min(p1._1, p2._1), math.max(p1._2, p2._2))\n",
    "val minMaxParPrenoms = prenomsAvecEffectif.aggregateByKey((Integer.MAX_VALUE, Integer.MIN_VALUE))(minMax, minMax)\n",
    "minMaxParPrenoms.take(10).foreach(println)"
   ]
  },
  {
   "cell_type": "markdown",
   "metadata": {},
   "source": [
    "1. Sur le modèle des prénoms, charger les données des départements\n",
    "1. Donner, pour chaque nom de département, le prénom le plus fréquent depuis l'année 2000"
   ]
  },
  {
   "cell_type": "code",
   "execution_count": 9,
   "metadata": {},
   "outputs": [
    {
     "data": {
      "text/plain": [
       "Array((94,2A,2A004,3,CORSE-DU-SUD,Corse-du-Sud), (11,91,91228,5,ESSONNE,Essonne), (76,09,09122,5,ARIEGE,Ari�ge), (44,88,88160,4,VOSGES,Vosges), (84,74,74010,3,HAUTE-SAVOIE,Haute-Savoie), (24,41,41018,2,LOIR-ET-CHER,Loir-et-Cher), (76,30,30189,2,GARD,Gard), (84,15,15014,2,CANTAL,Cantal), (52,44,44109,3,LOIRE-ATLANTIQUE,Loire-Atlantique), (52,85,85191,3,VENDEE,Vend�e))"
      ]
     },
     "execution_count": 9,
     "metadata": {},
     "output_type": "execute_result"
    }
   ],
   "source": [
    "val lignesDept = sc.textFile(\"dpts.txt\").filter(l => l.startsWith(\"REGION\") == false)\n",
    "val depts = lignesDept.map(l => (\n",
    "    extractField(l, 0).toInt,\n",
    "    extractField(l, 1),\n",
    "    extractField(l, 2),\n",
    "    extractField(l, 3).toInt,\n",
    "    extractField(l, 4),\n",
    "    extractField(l, 5)\n",
    "))\n",
    "depts.takeSample(false, 10)"
   ]
  },
  {
   "cell_type": "code",
   "execution_count": 10,
   "metadata": {},
   "outputs": [
    {
     "name": "stdout",
     "output_type": "stream",
     "text": [
      "(AIN,(MAXIME,18))\n",
      "(AISNE,(JUSTINE,23))\n",
      "(ALLIER,(ANTOINE,15))\n",
      "(ALPES-DE-HAUTE-PROVENCE,(LENNY,5))\n",
      "(ALPES-MARITIMES,(MAXENCE,46))\n",
      "(ARDECHE,(ESTEBAN,15))\n",
      "(ARDENNES,(SABRINA,3))\n",
      "(ARIEGE,(ARTHUR,7))\n",
      "(AUBE,(BAPTISTE,23))\n",
      "(AUDE,(CL�MENT,25))\n",
      "(AVEYRON,(M�LANIE,11))\n",
      "(BAS-RHIN,(MANON,64))\n",
      "(BOUCHES-DU-RHONE,(LENNY,69))\n",
      "(CALVADOS,(ALYSSIA,7))\n",
      "(CANTAL,(ROMANE,14))\n",
      "(CHARENTE,(TOM,21))\n",
      "(CHARENTE-MARITIME,(MAXIME,41))\n",
      "(CHER,(MAEL,11))\n",
      "(CORREZE,(LUCAS,32))\n",
      "(COTE-D'OR,(_PRENOMS_RARES,164))\n",
      "(COTES-D'ARMOR,(TITOUAN,27))\n",
      "(CREUSE,(MAXIME,3))\n",
      "(DEUX-SEVRES,(ENOLA,7))\n",
      "(DORDOGNE,(ENZO,54))\n",
      "(DOUBS,(ANNA,23))\n",
      "(DROME,(LUCIE,11))\n",
      "(ESSONNE,(SARAH,84))\n",
      "(EURE,(VICTOR,14))\n",
      "(EURE-ET-LOIR,(MARIE,12))\n",
      "(FINISTERE,(_PRENOMS_RARES,207))\n",
      "(GARD,(MATH�O,37))\n",
      "(GERS,(VICTOIRE,3))\n",
      "(GIRONDE,(L�A,60))\n",
      "(HAUT-RHIN,(SIMON,20))\n",
      "(HAUTE-GARONNE,(BASTIEN,48))\n",
      "(HAUTE-LOIRE,(PAUL,4))\n",
      "(HAUTE-MARNE,(EMMA,23))\n",
      "(HAUTE-SAONE,(MAELYS,5))\n",
      "(HAUTE-SAVOIE,(MARTIN,31))\n",
      "(HAUTE-VIENNE,(ROXANE,6))\n",
      "(HAUTES-ALPES,(ARTHUR,5))\n",
      "(HAUTES-PYRENEES,(CL�MENT,21))\n",
      "(HAUTS-DE-SEINE,(NATHAN,130))\n",
      "(HERAULT,(BENJAMIN,62))\n",
      "(ILLE-ET-VILAINE,(L�NA,48))\n",
      "(INDRE,(CHARLINE,9))\n",
      "(INDRE-ET-LOIRE,(ROMANE,49))\n",
      "(ISERE,(LOUIS,55))\n",
      "(JURA,(NATHAN,17))\n",
      "(LANDES,(AXEL,12))\n",
      "(LOIR-ET-CHER,(_PRENOMS_RARES,114))\n",
      "(LOIRE,(_PRENOMS_RARES,125))\n",
      "(LOIRE-ATLANTIQUE,(THA�S,23))\n",
      "(LOIRET,(S�BASTIEN,6))\n",
      "(LOT-ET-GARONNE,(MANON,37))\n",
      "(MAINE-ET-LOIRE,(_PRENOMS_RARES,288))\n",
      "(MANCHE,(SAMUEL,13))\n",
      "(MARNE,(MANON,40))\n",
      "(MAYENNE,(SALOM�,12))\n",
      "(MEURTHE-ET-MOSELLE,(_PRENOMS_RARES,172))\n",
      "(MORBIHAN,(ANAELLE,12))\n",
      "(MOSELLE,(ADAM,48))\n",
      "(NIEVRE,(ROMAIN,10))\n",
      "(NORD,(NATHAN,291))\n",
      "(OISE,(LOLA,49))\n",
      "(ORNE,(MARION,12))\n",
      "(PARIS,(MARTIN,119))\n",
      "(PAS-DE-CALAIS,(LOUIS,143))\n",
      "(PUY-DE-DOME,(LISA,21))\n",
      "(PYRENEES-ATLANTIQUES,(NAHIA,21))\n",
      "(PYRENEES-ORIENTALES,(L�A,48))\n",
      "(RHONE,(NOLAN,126))\n",
      "(SAONE-ET-LOIRE,(ANOUK,7))\n",
      "(SARTHE,(CLARA,49))\n",
      "(SAVOIE,(TIMOTHE,6))\n",
      "(SEINE-ET-MARNE,(CLARA,40))\n",
      "(SEINE-MARITIME,(ROSE,13))\n",
      "(SEINE-SAINT-DENIS,(MAXIME,98))\n",
      "(SOMME,(TOM,43))\n",
      "(TARN,(GABRIEL,31))\n",
      "(TARN-ET-GARONNE,(JULIETTE,8))\n",
      "(TERRITOIRE DE BELFORT,(MANON,7))\n",
      "(VAL-D'OISE,(HUGO,99))\n",
      "(VAL-DE-MARNE,(IN�S,96))\n",
      "(VAR,(CASSANDRA,20))\n",
      "(VAUCLUSE,(IN�S,62))\n",
      "(VENDEE,(M�LISSA,21))\n",
      "(VIENNE,(CL�MENT,26))\n",
      "(VOSGES,(R�MY,7))\n",
      "(YONNE,(_PRENOMS_RARES,69))\n",
      "(YVELINES,(ROSE,44))\n"
     ]
    }
   ],
   "source": [
    "val prenomsParDepts = prenoms.filter(p => p._3 >= 2000).map(p => (p._4, (p._2, p._5)))\n",
    "val maxParDepts = prenomsParDepts.reduceByKey((p1, p2) => (if (p1._2 < p2._2) p2._1 else p1._1, math.max(p1._2, p2._2)))\n",
    "val deptsAvecNoms = depts.filter(d => d._2 != \"2A\" && d._2 != \"2B\").map(d => (d._2.toInt, d._5))\n",
    "val resultats = deptsAvecNoms.join(maxParDepts).map(j => (j._2._1, (j._2._2._1, j._2._2._2))).sortByKey()\n",
    "resultats.collect.foreach(println)"
   ]
  }
 ],
 "metadata": {
  "kernelspec": {
   "display_name": "Apache Toree - Scala",
   "language": "scala",
   "name": "apache_toree_scala"
  },
  "language_info": {
   "file_extension": ".scala",
   "name": "scala",
   "version": "2.11.8"
  }
 },
 "nbformat": 4,
 "nbformat_minor": 2
}
