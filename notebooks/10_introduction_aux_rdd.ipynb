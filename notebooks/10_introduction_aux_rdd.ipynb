{
 "cells": [
  {
   "cell_type": "markdown",
   "metadata": {},
   "source": [
    "# Une fonction pour simplifier l'accès aux données"
   ]
  },
  {
   "cell_type": "code",
   "execution_count": 1,
   "metadata": {},
   "outputs": [],
   "source": [
    "def extractField(s: String, fieldNumber: Int): String = {\n",
    "    val fields = s.split('\\t')\n",
    "    if (fieldNumber >= fields.length) \"\" else fields(fieldNumber)\n",
    "}"
   ]
  },
  {
   "cell_type": "code",
   "execution_count": 2,
   "metadata": {},
   "outputs": [
    {
     "name": "stdout",
     "output_type": "stream",
     "text": [
      "2\n",
      "CASSIOPEE\n",
      "2009\n",
      "33\n",
      "3.0000\n"
     ]
    }
   ],
   "source": [
    "println(extractField(\"2\tCASSIOPEE\t2009\t33\t3.0000\", 0))\n",
    "println(extractField(\"2\tCASSIOPEE\t2009\t33\t3.0000\", 1))\n",
    "println(extractField(\"2\tCASSIOPEE\t2009\t33\t3.0000\", 2))\n",
    "println(extractField(\"2\tCASSIOPEE\t2009\t33\t3.0000\", 3))\n",
    "println(extractField(\"2\tCASSIOPEE\t2009\t33\t3.0000\", 4))\n",
    "println(extractField(\"2\tCASSIOPEE\t2009\t33\t3.0000\", 5))"
   ]
  },
  {
   "cell_type": "markdown",
   "metadata": {},
   "source": [
    "# Charger les données\n",
    "1. Créer le RDD `lignes` à partir du répertoire `prenoms_sample.txt`"
   ]
  },
  {
   "cell_type": "code",
   "execution_count": 3,
   "metadata": {},
   "outputs": [
    {
     "name": "stdout",
     "output_type": "stream",
     "text": [
      "2\tLISON\t2004\t69\t10.0000\n",
      "2\tLISON\t2011\t59\t59.0000\n",
      "2\tLISON\t2012\t86\t4.0000\n",
      "2\tLISON\t2014\t90\t3.0000\n",
      "2\tLIVIA\t2002\t94\t4.0000\n",
      "2\tLIYA\t2011\t62\t3.0000\n",
      "2\tLIYAH\t2010\t93\t6.0000\n",
      "2\tLIZ�A\t2014\t76\t3.0000\n",
      "2\tLOANE\t2008\t37\t12.0000\n",
      "2\tLOLA\t2006\t11\t23.0000\n"
     ]
    }
   ],
   "source": [
    "val lignes = sc.textFile(\"prenoms_sample.txt\")\n",
    "lignes.take(10).foreach(println)"
   ]
  },
  {
   "cell_type": "markdown",
   "metadata": {},
   "source": [
    "# Transformer les lignes en prénoms\n",
    "1. En appliquant la méthode `map`, créer le RDD `prenoms` à partir de `lignes`"
   ]
  },
  {
   "cell_type": "code",
   "execution_count": 4,
   "metadata": {},
   "outputs": [
    {
     "name": "stdout",
     "output_type": "stream",
     "text": [
      "(2,LISON,2004,69,10)\n",
      "(2,LISON,2011,59,59)\n",
      "(2,LISON,2012,86,4)\n",
      "(2,LISON,2014,90,3)\n",
      "(2,LIVIA,2002,94,4)\n",
      "(2,LIYA,2011,62,3)\n",
      "(2,LIYAH,2010,93,6)\n",
      "(2,LIZ�A,2014,76,3)\n",
      "(2,LOANE,2008,37,12)\n",
      "(2,LOLA,2006,11,23)\n"
     ]
    }
   ],
   "source": [
    "val prenoms = lignes.map(l => (\n",
    "    extractField(l, 0).charAt(0),\n",
    "    extractField(l, 1),\n",
    "    extractField(l, 2).toInt,\n",
    "    extractField(l, 3).toInt,\n",
    "    extractField(l, 4).toDouble.toInt\n",
    "))\n",
    "prenoms.take(10).foreach(println)"
   ]
  },
  {
   "cell_type": "markdown",
   "metadata": {},
   "source": [
    "# Interroger les données\n",
    "La documentation des méthodes d'un RDD est disponible ([RDD](https://spark.apache.org/docs/latest/api/scala/index.html#org.apache.spark.rdd.RDD), [PairRDDFunctions](https://spark.apache.org/docs/latest/api/scala/index.html#org.apache.spark.rdd.PairRDDFunctions)).\n",
    "\n",
    "1. Rappeler ce que sont les *transformations* et les *actions*\n",
    "1. Donner, pour chaque prénom, son nombre d'occurences (`map` et `reduceByKey`)"
   ]
  },
  {
   "cell_type": "code",
   "execution_count": 1,
   "metadata": {},
   "outputs": [
    {
     "data": {
      "text/plain": [
       "Name: Syntax Error.\n",
       "Message: \n",
       "StackTrace: "
      ]
     },
     "execution_count": 1,
     "metadata": {},
     "output_type": "execute_result"
    }
   ],
   "source": [
    "//TODO"
   ]
  },
  {
   "cell_type": "markdown",
   "metadata": {},
   "source": [
    "1. Donner le nombre total de naissances avec un prénom féminin (`filter`, `map`, `reduce` ou `sum`)"
   ]
  },
  {
   "cell_type": "code",
   "execution_count": 2,
   "metadata": {},
   "outputs": [
    {
     "data": {
      "text/plain": [
       "Name: Syntax Error.\n",
       "Message: \n",
       "StackTrace: "
      ]
     },
     "execution_count": 2,
     "metadata": {},
     "output_type": "execute_result"
    }
   ],
   "source": [
    "//TODO"
   ]
  },
  {
   "cell_type": "markdown",
   "metadata": {},
   "source": [
    "1. Donner l'effectif maximal et minimal par prénom (`map`, `aggregateByKey`)"
   ]
  },
  {
   "cell_type": "code",
   "execution_count": 3,
   "metadata": {},
   "outputs": [
    {
     "data": {
      "text/plain": [
       "Name: Syntax Error.\n",
       "Message: \n",
       "StackTrace: "
      ]
     },
     "execution_count": 3,
     "metadata": {},
     "output_type": "execute_result"
    }
   ],
   "source": [
    "//TODO"
   ]
  },
  {
   "cell_type": "markdown",
   "metadata": {},
   "source": [
    "1. Sur le modèle des prénoms, charger les données des départements\n",
    "1. Donner, pour chaque nom de département, le prénom le plus fréquent depuis l'année 2000"
   ]
  },
  {
   "cell_type": "code",
   "execution_count": 4,
   "metadata": {},
   "outputs": [
    {
     "data": {
      "text/plain": [
       "Name: Syntax Error.\n",
       "Message: \n",
       "StackTrace: "
      ]
     },
     "execution_count": 4,
     "metadata": {},
     "output_type": "execute_result"
    }
   ],
   "source": [
    "//TODO"
   ]
  },
  {
   "cell_type": "code",
   "execution_count": 5,
   "metadata": {},
   "outputs": [
    {
     "data": {
      "text/plain": [
       "Name: Syntax Error.\n",
       "Message: \n",
       "StackTrace: "
      ]
     },
     "execution_count": 5,
     "metadata": {},
     "output_type": "execute_result"
    }
   ],
   "source": [
    "//TODO"
   ]
  }
 ],
 "metadata": {
  "kernelspec": {
   "display_name": "Apache Toree - Scala",
   "language": "scala",
   "name": "apache_toree_scala"
  },
  "language_info": {
   "file_extension": ".scala",
   "name": "scala",
   "version": "2.11.8"
  }
 },
 "nbformat": 4,
 "nbformat_minor": 2
}
