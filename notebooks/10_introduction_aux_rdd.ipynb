{
 "cells": [
  {
   "cell_type": "markdown",
   "metadata": {},
   "source": [
    "# Une fonction pour simplifier l'accès aux données"
   ]
  },
  {
   "cell_type": "code",
   "execution_count": 33,
   "metadata": {},
   "outputs": [],
   "source": [
    "object FieldUtils extends Serializable {\n",
    "    def extractField(s: String, fieldNumber: Int): String = {\n",
    "        val fields = s.split('\\t')\n",
    "        if (fieldNumber >= fields.length) \"\" else fields(fieldNumber)\n",
    "    }\n",
    "}"
   ]
  },
  {
   "cell_type": "code",
   "execution_count": 34,
   "metadata": {},
   "outputs": [
    {
     "name": "stdout",
     "output_type": "stream",
     "text": [
      "2\n",
      "CASSIOPEE\n",
      "2009\n",
      "33\n",
      "3.0000\n"
     ]
    }
   ],
   "source": [
    "println(FieldUtils.extractField(\"2\tCASSIOPEE\t2009\t33\t3.0000\", 0))\n",
    "println(FieldUtils.extractField(\"2\tCASSIOPEE\t2009\t33\t3.0000\", 1))\n",
    "println(FieldUtils.extractField(\"2\tCASSIOPEE\t2009\t33\t3.0000\", 2))\n",
    "println(FieldUtils.extractField(\"2\tCASSIOPEE\t2009\t33\t3.0000\", 3))\n",
    "println(FieldUtils.extractField(\"2\tCASSIOPEE\t2009\t33\t3.0000\", 4))\n",
    "println(FieldUtils.extractField(\"2\tCASSIOPEE\t2009\t33\t3.0000\", 5))"
   ]
  },
  {
   "cell_type": "markdown",
   "metadata": {},
   "source": [
    "# Charger les données\n",
    "1. Créer le RDD `lignes` à partir du répertoire `prenoms_sample.txt`"
   ]
  },
  {
   "cell_type": "code",
   "execution_count": 35,
   "metadata": {},
   "outputs": [
    {
     "name": "stdout",
     "output_type": "stream",
     "text": [
      "1\tAARON\t2011\t17\t13.0000\n",
      "1\tAARON\t2015\t33\t49.0000\n",
      "1\tABDALLAH\t1977\t42\t4.0000\n",
      "1\tABDALLAH\t2005\t92\t13.0000\n",
      "1\tABDELAZIZ\t1971\t28\t3.0000\n",
      "1\tABDELAZIZ\t1978\t08\t3.0000\n",
      "1\tABDERRAHMAN\t2011\t06\t3.0000\n",
      "1\tABDOULAYE\t2005\t75\t23.0000\n",
      "1\tABEL\t1908\t58\t8.0000\n",
      "1\tADAM\t2002\t22\t3.0000\n"
     ]
    }
   ],
   "source": [
    "val lignes = sc.textFile(\"prenoms_sample.txt\")\n",
    "lignes.take(10).foreach(println)"
   ]
  },
  {
   "cell_type": "markdown",
   "metadata": {},
   "source": [
    "# Transformer les lignes en prénoms\n",
    "1. En appliquant la méthode `map`, créer le RDD prenoms à partir de `lignes`"
   ]
  },
  {
   "cell_type": "code",
   "execution_count": 36,
   "metadata": {},
   "outputs": [
    {
     "name": "stdout",
     "output_type": "stream",
     "text": [
      "(1,AARON,2011,17,13)\n",
      "(1,AARON,2015,33,49)\n",
      "(1,ABDALLAH,1977,42,4)\n",
      "(1,ABDALLAH,2005,92,13)\n",
      "(1,ABDELAZIZ,1971,28,3)\n",
      "(1,ABDELAZIZ,1978,8,3)\n",
      "(1,ABDERRAHMAN,2011,6,3)\n",
      "(1,ABDOULAYE,2005,75,23)\n",
      "(1,ABEL,1908,58,8)\n",
      "(1,ADAM,2002,22,3)\n"
     ]
    }
   ],
   "source": [
    "val prenoms = lignes.map(l => (\n",
    "    FieldUtils.extractField(l, 0).charAt(0),\n",
    "    FieldUtils.extractField(l, 1),\n",
    "    FieldUtils.extractField(l, 2).toInt,\n",
    "    FieldUtils.extractField(l, 3).toInt,\n",
    "    FieldUtils.extractField(l, 4).toDouble.toInt\n",
    "))\n",
    "prenoms.take(10).foreach(println)"
   ]
  },
  {
   "cell_type": "markdown",
   "metadata": {},
   "source": [
    "# Interroger les données\n",
    "La documentation des méthodes d'un RDD est disponible ([RDD](https://spark.apache.org/docs/latest/api/scala/index.html#org.apache.spark.rdd.RDD), [PairRDDFunctions](https://spark.apache.org/docs/latest/api/scala/index.html#org.apache.spark.rdd.PairRDDFunctions)).\n",
    "\n",
    "1. Rappeler ce que sont les *transformations* et les *actions*\n",
    "1. Donner, pour chaque prénom, son nombre d'occurences (`map` et `reduceByKey`)"
   ]
  },
  {
   "cell_type": "code",
   "execution_count": 37,
   "metadata": {},
   "outputs": [
    {
     "name": "stdout",
     "output_type": "stream",
     "text": [
      "(BRICE,16)\n",
      "(OCEANE,17)\n",
      "(ASSIA,39)\n",
      "(YOEN,3)\n",
      "(NICOLLE,27)\n",
      "(A�NHOA,3)\n",
      "(AM�LIE,102)\n",
      "(DANIELE,14)\n",
      "(ANNE-SOPHIE,35)\n",
      "(EMMANUEL,186)\n"
     ]
    }
   ],
   "source": [
    "val effectifParPrenoms = prenoms.map(p => (p._2, p._5)).reduceByKey((n1, n2) => n1 + n2)\n",
    "effectifParPrenoms.take(10).foreach(println)"
   ]
  },
  {
   "cell_type": "markdown",
   "metadata": {},
   "source": [
    "1. Donner le nombre total de naissances avec un prénom féminin (`filter`, `map`, `reduce` ou `sum`)"
   ]
  },
  {
   "cell_type": "code",
   "execution_count": 38,
   "metadata": {},
   "outputs": [
    {
     "name": "stdout",
     "output_type": "stream",
     "text": [
      "39747.0\n"
     ]
    }
   ],
   "source": [
    "val effectifFéminin = prenoms.filter(p => p._1 == '2').map(p => p._5).sum\n",
    "println(effectifFéminin)"
   ]
  },
  {
   "cell_type": "markdown",
   "metadata": {},
   "source": [
    "1. Donner l'effectif maximal et minimal par prénom (`map`, `aggregateByKey`)"
   ]
  },
  {
   "cell_type": "code",
   "execution_count": 39,
   "metadata": {},
   "outputs": [
    {
     "name": "stdout",
     "output_type": "stream",
     "text": [
      "(BRICE,(3,9))\n",
      "(OCEANE,(17,17))\n",
      "(ASSIA,(6,19))\n",
      "(YOEN,(3,3))\n",
      "(NICOLLE,(3,17))\n",
      "(A�NHOA,(3,3))\n",
      "(AM�LIE,(4,31))\n",
      "(DANIELE,(14,14))\n",
      "(ANNE-SOPHIE,(4,31))\n",
      "(EMMANUEL,(4,148))\n"
     ]
    }
   ],
   "source": [
    "val prenomsAvecEffectif = prenoms.map(p => (p._2, (p._5, p._5)))\n",
    "def minMax(p1: Tuple2[Int, Int], p2: Tuple2[Int, Int]): Tuple2[Int, Int] = (math.min(p1._1, p2._1), math.max(p1._2, p2._2))\n",
    "val minMaxParPrenoms = prenomsAvecEffectif.aggregateByKey((Integer.MAX_VALUE, Integer.MIN_VALUE))(minMax, minMax)\n",
    "minMaxParPrenoms.take(10).foreach(println)"
   ]
  },
  {
   "cell_type": "markdown",
   "metadata": {},
   "source": [
    "1. Sur le modèle des prénoms, charger les données des départements\n",
    "1. Donner, pour chaque nom de département, le prénom le plus fréquent depuis l'année 2000"
   ]
  },
  {
   "cell_type": "code",
   "execution_count": 48,
   "metadata": {},
   "outputs": [
    {
     "data": {
      "text/plain": [
       "Array((6,976,97608,0,MAYOTTE,Mayotte), (27,90,90010,2,TERRITOIRE DE BELFORT,Territoire de Belfort), (28,76,76540,3,SEINE-MARITIME,Seine-Maritime), (76,09,09122,5,ARIEGE,Ari�ge), (44,67,67482,2,BAS-RHIN,Bas-Rhin), (24,18,18033,2,CHER,Cher), (75,87,87085,3,HAUTE-VIENNE,Haute-Vienne), (32,62,62041,2,PAS-DE-CALAIS,Pas-de-Calais), (2,972,97209,3,MARTINIQUE,Martinique), (93,05,05061,4,HAUTES-ALPES,Hautes-Alpes))"
      ]
     },
     "execution_count": 48,
     "metadata": {},
     "output_type": "execute_result"
    }
   ],
   "source": [
    "val lignesDept = sc.textFile(\"dpts.txt\").filter(l => l.startsWith(\"REGION\") == false)\n",
    "val depts = lignesDept.map(l => (\n",
    "    FieldUtils.extractField(l, 0).toInt,\n",
    "    FieldUtils.extractField(l, 1),\n",
    "    FieldUtils.extractField(l, 2),\n",
    "    FieldUtils.extractField(l, 3).toInt,\n",
    "    FieldUtils.extractField(l, 4),\n",
    "    FieldUtils.extractField(l, 5)\n",
    "))\n",
    "depts.takeSample(false, 10)"
   ]
  },
  {
   "cell_type": "code",
   "execution_count": 80,
   "metadata": {},
   "outputs": [
    {
     "name": "stdout",
     "output_type": "stream",
     "text": [
      "(AIN,(ENZO,29))\n",
      "(AISNE,(NATHA�L,5))\n",
      "(ALLIER,(_PRENOMS_RARES,100))\n",
      "(ALPES-DE-HAUTE-PROVENCE,(LUCAS,8))\n",
      "(ALPES-MARITIMES,(ISMAEL,8))\n",
      "(ARDECHE,(ALICE,8))\n",
      "(ARDENNES,(SALOM�,10))\n",
      "(ARIEGE,(VALENTIN,5))\n",
      "(AUBE,(ANTONIN,9))\n",
      "(AUDE,(LOUIS,21))\n",
      "(AVEYRON,(ROBIN,13))\n",
      "(BAS-RHIN,(SARA,16))\n",
      "(BOUCHES-DU-RHONE,(GABRIEL,170))\n",
      "(CALVADOS,(SOAN,5))\n",
      "(CHARENTE,(LAURINE,13))\n",
      "(CHARENTE-MARITIME,(HUGO,53))\n",
      "(CHER,(MAXIME,10))\n",
      "(CORREZE,(LINA,14))\n",
      "(COTE-D'OR,(MARGOT,18))\n",
      "(COTES-D'ARMOR,(YOUEN,8))\n",
      "(CREUSE,(_PRENOMS_RARES,16))\n",
      "(DEUX-SEVRES,(CARLA,12))\n",
      "(DORDOGNE,(NINA,7))\n",
      "(DOUBS,(MANON,85))\n",
      "(DROME,(LAURINE,13))\n",
      "(ESSONNE,(YANIS,54))\n",
      "(EURE,(MAXIME,11))\n",
      "(EURE-ET-LOIR,(HAMZA,5))\n",
      "(FINISTERE,(MARION,48))\n",
      "(GARD,(LOUIS,23))\n",
      "(GERS,(ALEXIS,8))\n",
      "(GIRONDE,(LOLA,93))\n",
      "(HAUT-RHIN,(ELISE,15))\n",
      "(HAUTE-GARONNE,(TONY,12))\n",
      "(HAUTE-MARNE,(ARTHUR,9))\n",
      "(HAUTE-SAONE,(L�A,11))\n",
      "(HAUTE-SAVOIE,(LOUISE,51))\n",
      "(HAUTE-VIENNE,(WILLIAM,12))\n",
      "(HAUTES-ALPES,(_PRENOMS_RARES,33))\n",
      "(HAUTES-PYRENEES,(CL�MENT,11))\n",
      "(HAUTS-DE-SEINE,(CLARA,70))\n",
      "(HERAULT,(VICTOIRE,21))\n",
      "(ILLE-ET-VILAINE,(ALIX,10))\n",
      "(INDRE,(LENNY,6))\n",
      "(INDRE-ET-LOIRE,(HUGO,55))\n",
      "(ISERE,(VICTOR,28))\n",
      "(JURA,(M�LINA,6))\n",
      "(LANDES,(CL�MENT,20))\n",
      "(LOIR-ET-CHER,(NATHAN,29))\n",
      "(LOIRE,(LOLA,67))\n",
      "(LOIRE-ATLANTIQUE,(ALEXANDRE,135))\n",
      "(LOIRET,(ZO�,32))\n",
      "(LOT,(MAT�O,5))\n",
      "(LOT-ET-GARONNE,(L�ANA,7))\n",
      "(LOZERE,(LORIS,3))\n",
      "(MAINE-ET-LOIRE,(BRYAN,9))\n",
      "(MANCHE,(ERWAN,18))\n",
      "(MARNE,(ANTONIN,13))\n",
      "(MAYENNE,(TOM,29))\n",
      "(MEURTHE-ET-MOSELLE,(NOEMIE,27))\n",
      "(MEUSE,(ELIOT,3))\n",
      "(MORBIHAN,(MALO,21))\n",
      "(MOSELLE,(MAXIME,60))\n",
      "(NIEVRE,(JORDAN,4))\n",
      "(NORD,(LOUIS,299))\n",
      "(OISE,(AXELLE,18))\n",
      "(ORNE,(CHLO�,37))\n",
      "(PARIS,(JULES,215))\n",
      "(PAS-DE-CALAIS,(CHLO�,140))\n",
      "(PUY-DE-DOME,(CHLO�,41))\n",
      "(PYRENEES-ATLANTIQUES,(EMMA,96))\n",
      "(PYRENEES-ORIENTALES,(NINA,12))\n",
      "(RHONE,(MAXENCE,74))\n",
      "(SAONE-ET-LOIRE,(TH�O,24))\n",
      "(SARTHE,(L�NA,26))\n",
      "(SAVOIE,(CHLO�,35))\n",
      "(SEINE-ET-MARNE,(JULIE,68))\n",
      "(SEINE-MARITIME,(CAMILLE,124))\n",
      "(SEINE-SAINT-DENIS,(MOHAMED,269))\n",
      "(SOMME,(LAURINE,24))\n",
      "(TARN,(ROSE,11))\n",
      "(TARN-ET-GARONNE,(LISA,12))\n",
      "(TERRITOIRE DE BELFORT,(L�O,18))\n",
      "(VAL-D'OISE,(CANDICE,30))\n",
      "(VAL-DE-MARNE,(MATHIS,50))\n",
      "(VAR,(ARTHUR,36))\n",
      "(VAUCLUSE,(SALMA,17))\n",
      "(VENDEE,(DORIAN,20))\n",
      "(VIENNE,(CHLO�,27))\n",
      "(VOSGES,(CL�MENT,20))\n",
      "(YONNE,(ALEXANDRE,7))\n",
      "(YVELINES,(JULIEN,118))\n"
     ]
    }
   ],
   "source": [
    "val prenomsParDepts = prenoms.filter(p => p._3 >= 2000).map(p => (p._4, (p._2, p._5)))\n",
    "val maxParDepts = prenomsParDepts.reduceByKey((p1, p2) => (if (p1._2 < p2._2) p2._1 else p1._1, math.max(p1._2, p2._2)))\n",
    "val deptsAvecNoms = depts.filter(d => d._2 != \"2A\" && d._2 != \"2B\").map(d => (d._2.toInt, d._5))\n",
    "val resultats = deptsAvecNoms.join(maxParDepts).map(j => (j._2._1, (j._2._2._1, j._2._2._2))).sortByKey()\n",
    "resultats.collect.foreach(println)"
   ]
  },
  {
   "cell_type": "markdown",
   "metadata": {},
   "source": [
    "* Fonctions à explorer\n",
    "  * transformations : groupByKey, coalesce, repartition\n",
    "  * actions : collect, count\n",
    "  * persist/cache\n",
    "  * shuffle\n",
    "* Idée de requêtes\n",
    "  * jointure avec les départements"
   ]
  }
 ],
 "metadata": {
  "kernelspec": {
   "display_name": "Apache Toree - Scala",
   "language": "scala",
   "name": "apache_toree_scala"
  },
  "language_info": {
   "file_extension": ".scala",
   "name": "scala",
   "version": "2.11.8"
  }
 },
 "nbformat": 4,
 "nbformat_minor": 2
}
