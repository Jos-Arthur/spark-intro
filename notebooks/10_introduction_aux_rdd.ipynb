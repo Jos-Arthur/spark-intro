{
 "cells": [
  {
   "cell_type": "markdown",
   "metadata": {},
   "source": [
    "# Une classe pour simplifier l'accès aux données"
   ]
  },
  {
   "cell_type": "code",
   "execution_count": 49,
   "metadata": {},
   "outputs": [],
   "source": [
    "object Prenom {\n",
    "//    def apply(s: String): Prenom = new Prenom(s)\n",
    "    def extractField(s: String, index: Int): String = {\n",
    "        var startIndex = 0;\n",
    "        var endIndex = s.indexOf('\\t');\n",
    "        for (i <- 1 to index) {\n",
    "            startIndex = endIndex + 1\n",
    "            endIndex = s.indexOf('\\t', startIndex);\n",
    "        }\n",
    "        if (endIndex == -1) endIndex = s.length()\n",
    "        s.substring(startIndex, endIndex)\n",
    "    }\n",
    "}"
   ]
  },
  {
   "cell_type": "code",
   "execution_count": 50,
   "metadata": {},
   "outputs": [
    {
     "name": "stdout",
     "output_type": "stream",
     "text": [
      "2\n",
      "CASSIOPEE\n",
      "2009\n",
      "33\n",
      "3.0000\n"
     ]
    }
   ],
   "source": [
    "println(Prenom.extractField(\"2\tCASSIOPEE\t2009\t33\t3.0000\", 0))\n",
    "println(Prenom.extractField(\"2\tCASSIOPEE\t2009\t33\t3.0000\", 1))\n",
    "println(Prenom.extractField(\"2\tCASSIOPEE\t2009\t33\t3.0000\", 2))\n",
    "println(Prenom.extractField(\"2\tCASSIOPEE\t2009\t33\t3.0000\", 3))\n",
    "println(Prenom.extractField(\"2\tCASSIOPEE\t2009\t33\t3.0000\", 4))"
   ]
  },
  {
   "cell_type": "code",
   "execution_count": 53,
   "metadata": {},
   "outputs": [
    {
     "data": {
      "text/plain": [
       "Name: Unknown Error\n",
       "Message: <console>:21: error: missing parameter type for expanded function ((x$1) => x$1.extractField(s, 0).charAt(0))\n",
       "               _.extractField(s, 0).charAt(0),\n",
       "               ^\n",
       "<console>:20: error: overloaded method constructor Prenom with alternatives:\n",
       "  (s: String)Prenom <and>\n",
       "  (sexe: Char,prenom: String,annee: Int,dept: Int,nombre: Double)Prenom\n",
       " cannot be applied to (<error> => <error>, String, Int, Int, Double)\n",
       "           def this(s: String) = this(\n",
       "                                 ^\n",
       "StackTrace: "
      ]
     },
     "execution_count": 53,
     "metadata": {},
     "output_type": "execute_result"
    }
   ],
   "source": [
    "case class Prenom(\n",
    "        val sexe: Char, // 1 pour masculin, 2 pour féminin\n",
    "        val prenom: String,\n",
    "        val annee: Int, // 1900 à 2015, XXXX\n",
    "        val dept: Int, // liste des départements, XX\n",
    "        val nombre: Double\n",
    "    ) {\n",
    "    def this(s: String) = this(\n",
    "        _.extractField(s, 0).charAt(0),\n",
    "        s.substring(2, s.indexOf('\\t', 2)),\n",
    "        0, 0, 0.0\n",
    "        //s.substring(s.indexOf('\\t', 2) + 1, s.indexOf('\\t', 3)).toInt,\n",
    "        //s.substring(s.indexOf('\\t', 3) + 1, s.indexOf('\\t', 4)).toInt,\n",
    "        //s.substring(s.indexOf('\\t', 4) + 1).toDouble\n",
    "    )\n",
    "}"
   ]
  },
  {
   "cell_type": "code",
   "execution_count": 19,
   "metadata": {},
   "outputs": [
    {
     "name": "stdout",
     "output_type": "stream",
     "text": [
      "Prenom(2,ARIANE,2007,91,3.0)\n",
      "Prenom(2,CASSIOPEE,0,0,0.0)\n",
      "Prenom(1,HELIOS,2010,59,3.0)\n"
     ]
    },
    {
     "data": {
      "text/plain": [
       "Name: Unknown Error\n",
       "Message: <console>:19: error: not enough arguments for method apply: (sexe: Char, prenom: String, annee: Int, dept: Int, nombre: Double)Prenom in object Prenom.\n",
       "Unspecified value parameters prenom, annee, dept...\n",
       "       val helios2 = Prenom(\"1\tHELIOS\t2010\t59\t3.0000\") // échoue mais pourquoi ???\n",
       "                           ^\n",
       "StackTrace: "
      ]
     },
     "execution_count": 19,
     "metadata": {},
     "output_type": "execute_result"
    }
   ],
   "source": [
    "val ariane = new Prenom('2', \"ARIANE\", 2007, 91, 3.0)\n",
    "println(ariane)\n",
    "val cassiopee = new Prenom(\"2\tCASSIOPEE\t2009\t33\t3.0000\")\n",
    "println(cassiopee)\n",
    "val helios1 = Prenom('1', \"HELIOS\", 2010, 59, 3.0)\n",
    "println(helios)\n",
    "val helios2 = Prenom(\"1\tHELIOS\t2010\t59\t3.0000\") // échoue mais pourquoi ???\n",
    "println(helios)"
   ]
  },
  {
   "cell_type": "markdown",
   "metadata": {},
   "source": [
    "# Charger les données\n",
    "1. Créer le RDD `lignes` à partir du répertoire `prenoms_sample.txt`"
   ]
  },
  {
   "cell_type": "code",
   "execution_count": 7,
   "metadata": {},
   "outputs": [
    {
     "name": "stdout",
     "output_type": "stream",
     "text": [
      "2\tLISON\t2004\t69\t10.0000\n",
      "2\tLISON\t2011\t59\t59.0000\n",
      "2\tLISON\t2012\t86\t4.0000\n",
      "2\tLISON\t2014\t90\t3.0000\n",
      "2\tLIVIA\t2002\t94\t4.0000\n",
      "2\tLIYA\t2011\t62\t3.0000\n",
      "2\tLIYAH\t2010\t93\t6.0000\n",
      "2\tLIZ�A\t2014\t76\t3.0000\n",
      "2\tLOANE\t2008\t37\t12.0000\n",
      "2\tLOLA\t2006\t11\t23.0000\n"
     ]
    }
   ],
   "source": [
    "val lignes = sc.textFile(\"prenoms_sample.txt\")\n",
    "lignes.take(10).foreach(println)"
   ]
  },
  {
   "cell_type": "markdown",
   "metadata": {},
   "source": [
    "# Transformer les lignes en prénoms\n",
    "1. En appliquant la méthode `map`, créer le RDD prenoms à partir de `lignes`"
   ]
  },
  {
   "cell_type": "code",
   "execution_count": 3,
   "metadata": {},
   "outputs": [
    {
     "data": {
      "text/plain": [
       "Name: org.apache.spark.SparkDriverExecutionException\n",
       "Message: Execution error\n",
       "StackTrace:   at org.apache.spark.scheduler.DAGScheduler.handleTaskCompletion(DAGScheduler.scala:1186)\n",
       "  at org.apache.spark.scheduler.DAGSchedulerEventProcessLoop.doOnReceive(DAGScheduler.scala:1711)\n",
       "  at org.apache.spark.scheduler.DAGSchedulerEventProcessLoop.onReceive(DAGScheduler.scala:1669)\n",
       "  at org.apache.spark.scheduler.DAGSchedulerEventProcessLoop.onReceive(DAGScheduler.scala:1658)\n",
       "  at org.apache.spark.util.EventLoop$$anon$1.run(EventLoop.scala:48)\n",
       "  at org.apache.spark.scheduler.DAGScheduler.runJob(DAGScheduler.scala:630)\n",
       "  at org.apache.spark.SparkContext.runJob(SparkContext.scala:2022)\n",
       "  at org.apache.spark.SparkContext.runJob(SparkContext.scala:2043)\n",
       "  at org.apache.spark.SparkContext.runJob(SparkContext.scala:2062)\n",
       "  at org.apache.spark.rdd.RDD$$anonfun$take$1.apply(RDD.scala:1354)\n",
       "  at org.apache.spark.rdd.RDDOperationScope$.withScope(RDDOperationScope.scala:151)\n",
       "  at org.apache.spark.rdd.RDDOperationScope$.withScope(RDDOperationScope.scala:112)\n",
       "  at org.apache.spark.rdd.RDD.withScope(RDD.scala:362)\n",
       "  at org.apache.spark.rdd.RDD.take(RDD.scala:1327)\n",
       "  ... 40 elided\n",
       "Caused by: java.lang.ArrayStoreException: [LPrenom;\n",
       "  at scala.runtime.ScalaRunTime$.array_update(ScalaRunTime.scala:90)\n",
       "  at org.apache.spark.SparkContext$$anonfun$runJob$4.apply(SparkContext.scala:2043)\n",
       "  at org.apache.spark.SparkContext$$anonfun$runJob$4.apply(SparkContext.scala:2043)\n",
       "  at org.apache.spark.scheduler.JobWaiter.taskSucceeded(JobWaiter.scala:59)\n",
       "  at org.apache.spark.scheduler.DAGScheduler.handleTaskCompletion(DAGScheduler.scala:1182)\n",
       "  at org.apache.spark.scheduler.DAGSchedulerEventProcessLoop.doOnReceive(DAGScheduler.scala:1711)\n",
       "  at org.apache.spark.scheduler.DAGSchedulerEventProcessLoop.onReceive(DAGScheduler.scala:1669)\n",
       "  at org.apache.spark.scheduler.DAGSchedulerEventProcessLoop.onReceive(DAGScheduler.scala:1658)"
      ]
     },
     "execution_count": 3,
     "metadata": {},
     "output_type": "execute_result"
    }
   ],
   "source": [
    "val prenoms = lignes.map(l => new Prenom(l))\n",
    "prenoms.take(10).foreach(println)"
   ]
  }
 ],
 "metadata": {
  "kernelspec": {
   "display_name": "Apache Toree - Scala",
   "language": "scala",
   "name": "apache_toree_scala"
  },
  "language_info": {
   "file_extension": ".scala",
   "name": "scala",
   "version": "2.11.8"
  }
 },
 "nbformat": 4,
 "nbformat_minor": 2
}
