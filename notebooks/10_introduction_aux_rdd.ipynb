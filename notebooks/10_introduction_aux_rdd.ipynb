{
 "cells": [
  {
   "cell_type": "markdown",
   "metadata": {},
   "source": [
    "# Une classe pour simplifier l'accès aux données"
   ]
  },
  {
   "cell_type": "code",
   "execution_count": 28,
   "metadata": {},
   "outputs": [],
   "source": [
    "object PrenomUtils extends Serializable {\n",
    "    def extractField(s: String, fieldNumber: Int): String = {\n",
    "        val fields = s.split('\\t')\n",
    "        if (fieldNumber >= fields.length) \"\" else fields(fieldNumber)\n",
    "    }\n",
    "}"
   ]
  },
  {
   "cell_type": "code",
   "execution_count": 29,
   "metadata": {},
   "outputs": [
    {
     "name": "stdout",
     "output_type": "stream",
     "text": [
      "2\n",
      "CASSIOPEE\n",
      "2009\n",
      "33\n",
      "3.0000\n"
     ]
    }
   ],
   "source": [
    "println(PrenomUtils.extractField(\"2\tCASSIOPEE\t2009\t33\t3.0000\", 0))\n",
    "println(PrenomUtils.extractField(\"2\tCASSIOPEE\t2009\t33\t3.0000\", 1))\n",
    "println(PrenomUtils.extractField(\"2\tCASSIOPEE\t2009\t33\t3.0000\", 2))\n",
    "println(PrenomUtils.extractField(\"2\tCASSIOPEE\t2009\t33\t3.0000\", 3))\n",
    "println(PrenomUtils.extractField(\"2\tCASSIOPEE\t2009\t33\t3.0000\", 4))\n",
    "println(PrenomUtils.extractField(\"2\tCASSIOPEE\t2009\t33\t3.0000\", 5))"
   ]
  },
  {
   "cell_type": "code",
   "execution_count": 38,
   "metadata": {},
   "outputs": [],
   "source": [
    "case class Prenom(\n",
    "        val sexe: Char, // 1 pour masculin, 2 pour féminin\n",
    "        val prenom: String,\n",
    "        val annee: Int, // 1900 à 2015, XXXX\n",
    "        val dept: Int, // liste des départements, XX\n",
    "        val nombre: Double\n",
    "    ) {\n",
    "    def this(s: String) = this(\n",
    "        PrenomUtils.extractField(s, 0).charAt(0),\n",
    "        PrenomUtils.extractField(s, 1),\n",
    "        PrenomUtils.extractField(s, 2).toInt,\n",
    "        PrenomUtils.extractField(s, 3).toInt,\n",
    "        PrenomUtils.extractField(s, 4).toDouble\n",
    "    )\n",
    "}"
   ]
  },
  {
   "cell_type": "code",
   "execution_count": 39,
   "metadata": {},
   "outputs": [
    {
     "name": "stdout",
     "output_type": "stream",
     "text": [
      "Prenom(2,ARIANE,2007,91,3.0)\n",
      "Prenom(2,CASSIOPEE,2009,33,3.0)\n",
      "Prenom(1,HELIOS,2010,59,3.0)\n"
     ]
    }
   ],
   "source": [
    "val ariane = new Prenom('2', \"ARIANE\", 2007, 91, 3.0)\n",
    "println(ariane)\n",
    "val cassiopee = new Prenom(\"2\tCASSIOPEE\t2009\t33\t3.0000\")\n",
    "println(cassiopee)\n",
    "val helios = Prenom('1', \"HELIOS\", 2010, 59, 3.0)\n",
    "println(helios)"
   ]
  },
  {
   "cell_type": "markdown",
   "metadata": {},
   "source": [
    "# Charger les données\n",
    "1. Créer le RDD `lignes` à partir du répertoire `prenoms_sample.txt`"
   ]
  },
  {
   "cell_type": "code",
   "execution_count": 48,
   "metadata": {},
   "outputs": [
    {
     "name": "stdout",
     "output_type": "stream",
     "text": [
      "1\tAARON\t2011\t17\t13.0000\n",
      "1\tAARON\t2015\t33\t49.0000\n",
      "1\tABDALLAH\t1977\t42\t4.0000\n",
      "1\tABDALLAH\t2005\t92\t13.0000\n",
      "1\tABDELAZIZ\t1971\t28\t3.0000\n",
      "1\tABDELAZIZ\t1978\t08\t3.0000\n",
      "1\tABDERRAHMAN\t2011\t06\t3.0000\n",
      "1\tABDOULAYE\t2005\t75\t23.0000\n",
      "1\tABEL\t1908\t58\t8.0000\n",
      "1\tADAM\t2002\t22\t3.0000\n"
     ]
    }
   ],
   "source": [
    "val lignes = sc.textFile(\"prenoms_sample.txt\")\n",
    "lignes.take(10).foreach(println)"
   ]
  },
  {
   "cell_type": "markdown",
   "metadata": {},
   "source": [
    "# Transformer les lignes en prénoms\n",
    "1. En appliquant la méthode `map`, créer le RDD prenoms à partir de `lignes`"
   ]
  },
  {
   "cell_type": "code",
   "execution_count": 50,
   "metadata": {},
   "outputs": [
    {
     "name": "stdout",
     "output_type": "stream",
     "text": [
      "(1,AARON,2011,17,13.0)\n",
      "(1,AARON,2015,33,49.0)\n",
      "(1,ABDALLAH,1977,42,4.0)\n",
      "(1,ABDALLAH,2005,92,13.0)\n",
      "(1,ABDELAZIZ,1971,28,3.0)\n",
      "(1,ABDELAZIZ,1978,8,3.0)\n",
      "(1,ABDERRAHMAN,2011,6,3.0)\n",
      "(1,ABDOULAYE,2005,75,23.0)\n",
      "(1,ABEL,1908,58,8.0)\n",
      "(1,ADAM,2002,22,3.0)\n"
     ]
    }
   ],
   "source": [
    "val prenoms = lignes.map(l => (\n",
    "    PrenomUtils.extractField(l, 0).charAt(0),\n",
    "    PrenomUtils.extractField(l, 1),\n",
    "    PrenomUtils.extractField(l, 2).toInt,\n",
    "    PrenomUtils.extractField(l, 3).toInt,\n",
    "    PrenomUtils.extractField(l, 4).toDouble\n",
    "))\n",
    "prenoms.take(10).foreach(println)"
   ]
  }
 ],
 "metadata": {
  "kernelspec": {
   "display_name": "Apache Toree - Scala",
   "language": "scala",
   "name": "apache_toree_scala"
  },
  "language_info": {
   "file_extension": ".scala",
   "name": "scala",
   "version": "2.11.8"
  }
 },
 "nbformat": 4,
 "nbformat_minor": 2
}
