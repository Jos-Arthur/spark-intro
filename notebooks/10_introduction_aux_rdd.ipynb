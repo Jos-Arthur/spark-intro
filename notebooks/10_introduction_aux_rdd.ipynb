{
 "cells": [
  {
   "cell_type": "markdown",
   "metadata": {},
   "source": [
    "# Une classe pour simplifier l'accès aux données"
   ]
  },
  {
   "cell_type": "code",
   "execution_count": 8,
   "metadata": {},
   "outputs": [],
   "source": [
    "object PrenomUtils extends Serializable {\n",
    "    def extractField(s: String, fieldNumber: Int): String = {\n",
    "        val fields = s.split('\\t')\n",
    "        if (fieldNumber >= fields.length) \"\" else fields(fieldNumber)\n",
    "    }\n",
    "}"
   ]
  },
  {
   "cell_type": "code",
   "execution_count": 9,
   "metadata": {},
   "outputs": [
    {
     "name": "stdout",
     "output_type": "stream",
     "text": [
      "2\n",
      "CASSIOPEE\n",
      "2009\n",
      "33\n",
      "3.0000\n"
     ]
    }
   ],
   "source": [
    "println(PrenomUtils.extractField(\"2\tCASSIOPEE\t2009\t33\t3.0000\", 0))\n",
    "println(PrenomUtils.extractField(\"2\tCASSIOPEE\t2009\t33\t3.0000\", 1))\n",
    "println(PrenomUtils.extractField(\"2\tCASSIOPEE\t2009\t33\t3.0000\", 2))\n",
    "println(PrenomUtils.extractField(\"2\tCASSIOPEE\t2009\t33\t3.0000\", 3))\n",
    "println(PrenomUtils.extractField(\"2\tCASSIOPEE\t2009\t33\t3.0000\", 4))\n",
    "println(PrenomUtils.extractField(\"2\tCASSIOPEE\t2009\t33\t3.0000\", 5))"
   ]
  },
  {
   "cell_type": "markdown",
   "metadata": {},
   "source": [
    "# Charger les données\n",
    "1. Créer le RDD `lignes` à partir du répertoire `prenoms_sample.txt`"
   ]
  },
  {
   "cell_type": "code",
   "execution_count": 10,
   "metadata": {},
   "outputs": [
    {
     "name": "stdout",
     "output_type": "stream",
     "text": [
      "1\tAARON\t2011\t17\t13.0000\n",
      "1\tAARON\t2015\t33\t49.0000\n",
      "1\tABDALLAH\t1977\t42\t4.0000\n",
      "1\tABDALLAH\t2005\t92\t13.0000\n",
      "1\tABDELAZIZ\t1971\t28\t3.0000\n",
      "1\tABDELAZIZ\t1978\t08\t3.0000\n",
      "1\tABDERRAHMAN\t2011\t06\t3.0000\n",
      "1\tABDOULAYE\t2005\t75\t23.0000\n",
      "1\tABEL\t1908\t58\t8.0000\n",
      "1\tADAM\t2002\t22\t3.0000\n"
     ]
    }
   ],
   "source": [
    "val lignes = sc.textFile(\"prenoms_sample.txt\")\n",
    "lignes.take(10).foreach(println)"
   ]
  },
  {
   "cell_type": "markdown",
   "metadata": {},
   "source": [
    "# Transformer les lignes en prénoms\n",
    "1. En appliquant la méthode `map`, créer le RDD prenoms à partir de `lignes`"
   ]
  },
  {
   "cell_type": "code",
   "execution_count": 11,
   "metadata": {},
   "outputs": [
    {
     "name": "stdout",
     "output_type": "stream",
     "text": [
      "(1,AARON,2011,17,13)\n",
      "(1,AARON,2015,33,49)\n",
      "(1,ABDALLAH,1977,42,4)\n",
      "(1,ABDALLAH,2005,92,13)\n",
      "(1,ABDELAZIZ,1971,28,3)\n",
      "(1,ABDELAZIZ,1978,8,3)\n",
      "(1,ABDERRAHMAN,2011,6,3)\n",
      "(1,ABDOULAYE,2005,75,23)\n",
      "(1,ABEL,1908,58,8)\n",
      "(1,ADAM,2002,22,3)\n"
     ]
    }
   ],
   "source": [
    "val prenoms = lignes.map(l => (\n",
    "    PrenomUtils.extractField(l, 0).charAt(0),\n",
    "    PrenomUtils.extractField(l, 1),\n",
    "    PrenomUtils.extractField(l, 2).toInt,\n",
    "    PrenomUtils.extractField(l, 3).toInt,\n",
    "    PrenomUtils.extractField(l, 4).toDouble.toInt\n",
    "))\n",
    "prenoms.take(10).foreach(println)"
   ]
  },
  {
   "cell_type": "markdown",
   "metadata": {},
   "source": [
    "# Interroger les données\n",
    "La documentation des méthodes d'un RDD est disponible ([RDD](https://spark.apache.org/docs/latest/api/scala/index.html#org.apache.spark.rdd.RDD), [PairRDDFunctions](https://spark.apache.org/docs/latest/api/scala/index.html#org.apache.spark.rdd.PairRDDFunctions)).\n",
    "\n",
    "1. Donner, pour chaque prénom, son nombre d'occurences (`map` et `reduceByKey`)"
   ]
  },
  {
   "cell_type": "code",
   "execution_count": 15,
   "metadata": {},
   "outputs": [
    {
     "name": "stdout",
     "output_type": "stream",
     "text": [
      "(BRICE,16)\n",
      "(OCEANE,17)\n",
      "(ASSIA,39)\n",
      "(YOEN,3)\n",
      "(NICOLLE,27)\n",
      "(A�NHOA,3)\n",
      "(AM�LIE,102)\n",
      "(DANIELE,14)\n",
      "(ANNE-SOPHIE,35)\n",
      "(EMMANUEL,186)\n"
     ]
    }
   ],
   "source": [
    "val effectifParPrenoms = prenoms.map(p => (p._2, p._5)).reduceByKey((n1, n2) => n1 + n2)\n",
    "effectifParPrenoms.take(10).foreach(println)"
   ]
  },
  {
   "cell_type": "markdown",
   "metadata": {},
   "source": [
    "* Fonctions à explorer\n",
    "  * transformations : map, filter, groupByKey, reduceByKey, aggregateByKey, join, coalesce, repartition\n",
    "  * actions : reduce, collect, count, foreach\n",
    "  * persist/cache\n",
    "  * shuffle\n"
   ]
  }
 ],
 "metadata": {
  "kernelspec": {
   "display_name": "Apache Toree - Scala",
   "language": "scala",
   "name": "apache_toree_scala"
  },
  "language_info": {
   "file_extension": ".scala",
   "name": "scala",
   "version": "2.11.8"
  }
 },
 "nbformat": 4,
 "nbformat_minor": 2
}
